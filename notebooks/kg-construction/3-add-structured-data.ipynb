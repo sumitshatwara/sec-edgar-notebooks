{
 "cells": [
  {
   "cell_type": "markdown",
   "metadata": {
    "jupyter": {
     "outputs_hidden": false
    }
   },
   "source": [
    "# Add structured data\n",
    "\n"
   ]
  },
  {
   "cell_type": "markdown",
   "metadata": {},
   "source": [
    "## Setup"
   ]
  },
  {
   "cell_type": "code",
   "execution_count": null,
   "metadata": {
    "tags": []
   },
   "outputs": [],
   "source": [
    "%run 'shared.ipynb'"
   ]
  },
  {
   "cell_type": "markdown",
   "metadata": {},
   "source": [
    "# Form 13 data in a csv"
   ]
  },
  {
   "cell_type": "markdown",
   "metadata": {},
   "source": [
    "### Script - what is in the CSV\n",
    "\n",
    "SEC Form 13 is filed by institutional investment management firms\n",
    "to report what public companies the have invested in.\n",
    "\n",
    "The forms are available as XML files. During data prepartion,\n",
    "particular fields were pulled out of the XML and added as a\n",
    "row in a CSV file.\n",
    "\n",
    "These forms have been selected for investors of the public companies\n",
    "that you previously imported from Form 10-K filings.\n"
   ]
  },
  {
   "cell_type": "markdown",
   "metadata": {},
   "source": []
  },
  {
   "cell_type": "markdown",
   "metadata": {},
   "source": [
    "# Inspect Form 13 sources\n"
   ]
  },
  {
   "cell_type": "markdown",
   "metadata": {},
   "source": [
    "### Script - read the csv into a list of records\n",
    "\n",
    "To begin, you can read the csv file in using a `csv.DictReader`\n",
    "which will parse each row and turn it into a dictionary\n",
    "using the csv header row for keys."
   ]
  },
  {
   "cell_type": "code",
   "execution_count": null,
   "metadata": {
    "tags": []
   },
   "outputs": [],
   "source": [
    "import csv\n",
    "\n",
    "all_form13s = []\n",
    "\n",
    "with open(f'{DATA_DIR}/form13.csv', mode='r') as csv_file:\n",
    "    csv_reader = csv.DictReader(csv_file)\n",
    "    for row in csv_reader: # each row will be a dictionary\n",
    "      all_form13s.append(row)\n",
    "\n",
    "first_form13 = all_form13s[0]\n",
    "\n",
    "first_form13"
   ]
  },
  {
   "cell_type": "markdown",
   "metadata": {},
   "source": [
    "### script - look at more rows\n",
    "\n",
    "You will start with the first row, then process all rows in the csv.\n",
    "\n",
    "Let's take a quick look at what the rows look like. Maybe the first 5.\n",
    "\n",
    "You can see that each of these firms have invested in the same company,\n",
    "'netapp'"
   ]
  },
  {
   "cell_type": "markdown",
   "metadata": {},
   "source": [
    "### Script - what are those fields?\n",
    "\n",
    "You can see the following fields:\n",
    "\n",
    "Details about the firm itself:\n",
    "- managerName - the name of the firm\n",
    "- managerCik - the unique \"central index key\" for the firm\n",
    "- managerAddress - the business address of the firm\n",
    "\n",
    "Then information about a particular investment:\n",
    "- reportCalendarOrQuarter - the date reporting date\n",
    "- companyName - the name of the public company they invested in\n",
    "- value - the value of the investment\n",
    "- shares - the number of shares of the investment\n",
    "\n",
    "And some metadata about the company they invested in:\n",
    "- cusip6 - the 6-digit cusip code\n",
    "- cusip - the full cusip code \n",
    "\n",
    "All that becomes a row in the CSV file,\n",
    "along with an extra column called \"source\"\n"
   ]
  },
  {
   "cell_type": "markdown",
   "metadata": {},
   "source": [
    "# Form13 Node types\n",
    "\n",
    "From each row, you will create two nodes: one for the management company \n",
    "and one for the company that they invest in.\n",
    "\n",
    "The management company nodes will have a `:Manager` label.\n",
    "They're unique based on the \"central index key\" from the SEC, \n",
    "which will be stored in the `managerCik` property.\n",
    "They'll also get a `managerName` property.\n",
    "\n",
    "The company nodes will have a `:Company` label.\n",
    "They are unique based on a `cusip6` identifier.\n",
    "The company nodes will also get a `companyName` and full `cusip` property from the form 13 data.\n",
    "\n",
    "(possible slide)"
   ]
  },
  {
   "cell_type": "markdown",
   "metadata": {},
   "source": [
    "### Script - Company nodes\n",
    "\n",
    "Start with the company nodes.\n",
    "\n",
    "You will merge a node labeled as `:Company` that is unique\n",
    "by the `cusip6` identifier.\n",
    "\n",
    "On creation, set the company name and the full `cusip` array of identifiers. \n",
    "\n"
   ]
  },
  {
   "cell_type": "markdown",
   "metadata": {},
   "source": [
    "### Script - create a constraint for company nodes\n",
    "\n",
    "To ensure each company is unique and to speed up look-ups,\n",
    "you can create a uniqueness constraint.\n",
    "\n",
    "The cosntraint will apple to Nodes with the label `Company`,\n",
    "requiring that `cusip6` identifier is unique."
   ]
  },
  {
   "cell_type": "code",
   "execution_count": null,
   "metadata": {
    "tags": []
   },
   "outputs": [],
   "source": [
    "# Create a uniqueness constraint on the managerCik property of Manager nodes \n",
    "gdb.execute_query(\"\"\"\n",
    "    CREATE CONSTRAINT unique_company \n",
    "        IF NOT EXISTS FOR (n:Company) \n",
    "        REQUIRE n.cusip6 IS UNIQUE\n",
    "\"\"\")\n"
   ]
  },
  {
   "cell_type": "markdown",
   "metadata": {},
   "source": [
    "### Script - create all companies\n",
    "\n",
    "To create all companies in the CSV file, we'll loop through the rows\n",
    "and run that same `MERGE` query.\n",
    "\n",
    "Using the `MERGE` will only create 1 company for every unique `cusip6` identifier,\n",
    "no matter how many rows in the CSV contain information about that company."
   ]
  },
  {
   "cell_type": "code",
   "execution_count": null,
   "metadata": {
    "tags": []
   },
   "outputs": [],
   "source": [
    "cypher = \"\"\"\n",
    "MERGE (com:Company {cusip6: $form13Param.cusip6})\n",
    "  ON CREATE\n",
    "    SET com.name = $form13Param.companyName,\n",
    "        com.cusip = $form13Param.cusip\n",
    "\"\"\"\n",
    "\n",
    "for form13 in all_form13s:\n",
    "  gdb.execute_query(cypher, \n",
    "      form13Param = form13 \n",
    "  )\n"
   ]
  },
  {
   "cell_type": "code",
   "execution_count": null,
   "metadata": {
    "tags": []
   },
   "outputs": [],
   "source": [
    "gdb.execute_query(\"MATCH (com:Company) RETURN count(com)\").records"
   ]
  },
  {
   "cell_type": "markdown",
   "metadata": {},
   "source": [
    "### Script - enrich the company node\n",
    "\n",
    "The names from the Form 10K can be used to enrich the Company nodes.\n",
    "\n",
    "Having a relationship in place means that navigating from a company to a\n",
    "form is easy and fast, regardless of the overall size of the database.\n"
   ]
  },
  {
   "cell_type": "code",
   "execution_count": null,
   "metadata": {
    "tags": []
   },
   "outputs": [],
   "source": [
    "# Create a full-text index of Manager names\n",
    "gdb.execute_query(\"\"\"\n",
    "CREATE FULLTEXT INDEX fullTextCompanyNames\n",
    "  IF NOT EXISTS\n",
    "  FOR (com:Company) \n",
    "  ON EACH [com.names]\n",
    "\"\"\")\n"
   ]
  },
  {
   "cell_type": "code",
   "execution_count": null,
   "metadata": {
    "tags": []
   },
   "outputs": [],
   "source": [
    "# Connect all `Company` nodes to their corresponding `Form` nodes\n",
    "# based on the `cusip6` property\n",
    "\n",
    "# MATCH a double node pattern, for the `Company` and `Form` nodes\n",
    "# WHERE the `Company` and `Form` nodes have the same `cusip6` property\n",
    "# MERGE to connect these pairs with a (:Company)-[:FILED]->(:Form) relationship\n",
    "# RETURN a count of the number of relationships created or found (merged)\n",
    "cypher = \"\"\"\n",
    "  MATCH (com:Company), (form:Form)\n",
    "    WHERE com.cusip6 = form.cusip6\n",
    "  SET com.names = form.names\n",
    "\"\"\"\n",
    "\n",
    "gdb.execute_query(cypher)"
   ]
  },
  {
   "cell_type": "markdown",
   "metadata": {},
   "source": [
    "### Script - connect companies to their forms\n",
    "\n",
    "Using the same pair matching approach, you can connect\n",
    "each Company to the Form 10k they filed with a `FILED` relationship.\n",
    "\n",
    "Match the pairs of company and form, then `MERGE` the new relationship."
   ]
  },
  {
   "cell_type": "code",
   "execution_count": null,
   "metadata": {
    "tags": []
   },
   "outputs": [],
   "source": [
    "# Connect all `Company` nodes to their corresponding `Form` nodes\n",
    "# based on the `cusip6` property\n",
    "\n",
    "# MATCH a paired node pattern, for the `Company` and `Form` nodes\n",
    "# WHERE the `Company` and `Form` nodes have the same `cusip6` property\n",
    "# MERGE to connect these pairs with a (:Company)-[:FILED]->(:Form) relationship\n",
    "\n",
    "gdb.execute_query(\"\"\"\n",
    "  MATCH (com:Company), (form:Form)\n",
    "    WHERE com.cusip6 = form.cusip6\n",
    "  MERGE (com)-[:FILED]->(form)\n",
    "\"\"\")\n"
   ]
  },
  {
   "cell_type": "markdown",
   "metadata": {},
   "source": [
    "## Script - Manager nodes\n",
    "\n",
    "The institutional investment managers nodes will have a `:Manager` label.\n",
    "\n",
    "They're unique based on the \"central index key\" from the SEC, \n",
    "which will be stored in the `managerCik` property.\n",
    "They'll also get a `managerName` property.\n",
    "\n",
    "The manager information will get passed in as a query parameter\n",
    "named `managerParam` that will have the first_form13 dictionary.\n"
   ]
  },
  {
   "cell_type": "markdown",
   "metadata": {},
   "source": [
    "### Script - index the Manager nodes\n",
    "\n",
    "There will be many management companies, so you can\n",
    "create a uniqueness constraint to avoid creating duplicates.\n",
    "\n",
    "Create a constraint on nodes with a `Manager` label,\n",
    "requiring that the `managerCik` is unique."
   ]
  },
  {
   "cell_type": "code",
   "execution_count": null,
   "metadata": {
    "tags": []
   },
   "outputs": [],
   "source": [
    "# Create a uniqueness constraint on the managerCik property of Manager nodes \n",
    "gdb.execute_query(\"\"\"\n",
    "CREATE CONSTRAINT unique_manager \n",
    "  IF NOT EXISTS\n",
    "  FOR (n:Manager) \n",
    "  REQUIRE n.cik IS UNIQUE\n",
    "\"\"\")"
   ]
  },
  {
   "cell_type": "markdown",
   "metadata": {},
   "source": [
    "*Script*: Also create a full text index on the manager nodes.\n",
    "\n",
    "The full-text index is useful for keyword search.\n",
    "\n",
    "A vector index allows searching based on similar concepts.\n",
    "\n",
    "A full-text index allows searching based on similar looking strings.\n",
    "\n"
   ]
  },
  {
   "cell_type": "code",
   "execution_count": null,
   "metadata": {
    "tags": []
   },
   "outputs": [],
   "source": [
    "# Create a full-text index of Manager names\n",
    "gdb.execute_query(\"\"\"\n",
    "CREATE FULLTEXT INDEX fullTextManagerNames\n",
    "  IF NOT EXISTS\n",
    "  FOR (mgr:Manager) \n",
    "  ON EACH [mgr.name]\n",
    "\"\"\")\n"
   ]
  },
  {
   "cell_type": "markdown",
   "metadata": {},
   "source": [
    "### Script - create all management companies \n",
    "\n",
    "Now you will create nodes for all management firms \n",
    "that appear in the CSV file. Each of these firms\n",
    "have made an investment in NetApp. \n",
    "\n",
    "Use python to loop through the rows.\n",
    "\n",
    "This query is expecting the `managerParam` to be \n",
    "a dictionary, so you can pass in the entire row\n",
    "as a dictionary.\n",
    "\n",
    "When the cypher query runs, it will look for\n",
    "fields from that dictionary to set properties \n",
    "on the nodes.\n"
   ]
  },
  {
   "cell_type": "code",
   "execution_count": null,
   "metadata": {
    "tags": []
   },
   "outputs": [],
   "source": [
    "cypher = \"\"\"\n",
    "  MERGE (mgr:Manager {cik: $managerParam.managerCik})\n",
    "    ON CREATE\n",
    "        SET mgr.name = $managerParam.managerName,\n",
    "            mgr.address = $managerParam.managerAddress\n",
    "\"\"\"\n",
    "\n",
    "for form13 in all_form13s:\n",
    "  gdb.execute_query(cypher, managerParam=form13)\n"
   ]
  },
  {
   "cell_type": "markdown",
   "metadata": {},
   "source": [
    "## Script - management investment relationships\n",
    "\n",
    "We can now find pairs of Manager nodes and \n",
    "Company nodes using information from the form 13 csv.\n",
    "\n",
    "Each row in the CSV represents a single investment.\n",
    "\n",
    "Use the `cik` field to find a manager\n",
    "and the `cusip6` field to find the company.\n",
    "\n",
    "Here, we're looking for the investment described by the first form."
   ]
  },
  {
   "cell_type": "markdown",
   "metadata": {},
   "source": [
    "### Script - connect management firm with company\n",
    "\n",
    "You can find a manager node amd the company they invested in.\n",
    "\n",
    "You can now connect those nodes together. This is something\n",
    "you've done before in the course. The query will get a little\n",
    "long so let's go through it one line at a time.\n",
    "\n",
    "...\n",
    "\n",
    "using a `MERGE` clause.\n",
    "\n",
    "Because a manager may report multiple investments in a company,\n",
    "each investment is unique based on the reported calendar or quarter date.\n",
    "\n",
    "The `MERGE` clause for the relationship will be unique for a \n",
    "particular pair of Manger and company nodes, plus the reported investment date.\n"
   ]
  },
  {
   "cell_type": "markdown",
   "metadata": {},
   "source": [
    "### Script - connect all investments\n",
    "\n",
    "You can now loop through all rows of the CSV file to\n",
    "create a `OWNS_STOCK_IN` relationship between\n",
    "management firms and companies they invested in."
   ]
  },
  {
   "cell_type": "code",
   "execution_count": null,
   "metadata": {
    "tags": []
   },
   "outputs": [],
   "source": [
    "cypher = \"\"\"\n",
    "  MATCH (mgr:Manager {cik: $ownsParam.managerCik}), \n",
    "        (com:Company {cusip6: $ownsParam.cusip6})\n",
    "  MERGE (mgr)-[owns:OWNS_STOCK_IN { reportCalendarOrQuarter: $ownsParam.reportCalendarOrQuarter }]->(com)\n",
    "    ON CREATE\n",
    "      SET owns.value  = toFloat($ownsParam.value), \n",
    "          owns.shares = toInteger($ownsParam.shares)\n",
    "\"\"\"\n",
    "\n",
    "for form13 in all_form13s:\n",
    "  gdb.execute_query(cypher, ownsParam=form13)\n"
   ]
  },
  {
   "cell_type": "markdown",
   "metadata": {},
   "source": [
    "### Script - check the number of investments\n",
    "\n",
    "You can check how many investments were created\n",
    "by counting the number of `OWNS_STOCK_IN` relationships.\n",
    "\n",
    "MATCH the pattern from Manager OWNS_STOCK_IN Company.\n",
    "\n",
    "Then return a count of the relationships.\n",
    "\n",
    "OK, there are just as many relationships as we had\n",
    "rows in the CSV. Perfect."
   ]
  },
  {
   "cell_type": "code",
   "execution_count": null,
   "metadata": {
    "tags": []
   },
   "outputs": [],
   "source": [
    "cypher = \"\"\"\n",
    "  MATCH (:Manager)-[owns:OWNS_STOCK_IN]->(:Company)\n",
    "  RETURN count(owns) as investments\n",
    "\"\"\"\n",
    "\n",
    "gdb.execute_query(cypher)\n"
   ]
  },
  {
   "cell_type": "markdown",
   "metadata": {},
   "source": [
    "# Example Cypher queries\n",
    "\n",
    "### script - why did we do all that?\n",
    "\n",
    "You've added structured data to the knowledge graph,\n",
    "connected to the unstructured data from text in the forms.\n",
    "\n",
    "This let's you ask some questions that are not possible\n",
    "to answer by just looking at the text. \n",
    "\n",
    "Let's look at the some patterns that provide extra context\n",
    "for information discovery questions."
   ]
  },
  {
   "cell_type": "markdown",
   "metadata": {},
   "source": [
    "### Script - well known chunk \n",
    "\n",
    "What I love about graphs, is that they are awesome for exploration.\n",
    "\n",
    "Let's have some fun looking around to see what we can find.\n",
    "\n",
    "...\n",
    "\n",
    "To begin, find an a random chunk to use in later queries.\n",
    "\n",
    "You can match all chunks, then return the `chunkId` from the first one.\n",
    "\n",
    "Save that value in a python variable called `well_known_chunk` by \n",
    "grabbing the first result row, then the `chunkId` field in that row."
   ]
  },
  {
   "cell_type": "code",
   "execution_count": null,
   "metadata": {
    "tags": []
   },
   "outputs": [],
   "source": [
    "cypher = \"\"\"\n",
    "    MATCH (chunk:Chunk)\n",
    "    RETURN chunk.chunkId as chunkId LIMIT 1\n",
    "    \"\"\"\n",
    "\n",
    "chunk_rows = gdb.execute_query(cypher).records\n",
    "\n",
    "print(chunk_rows)\n",
    "\n",
    "chunk_first_row = chunk_rows[0]\n",
    "\n",
    "print(chunk_first_row)\n",
    "\n",
    "ref_chunk_id = chunk_first_row['chunkId']\n",
    "\n",
    "ref_chunk_id\n"
   ]
  },
  {
   "cell_type": "code",
   "execution_count": null,
   "metadata": {
    "tags": []
   },
   "outputs": [],
   "source": [
    "gdb.execute_query(\"\"\"\n",
    "    MATCH (chunk:Chunk { chunkId: $chunkIdParam })\n",
    "    RETURN chunk.chunkId as chunkId LIMIT 1\n",
    "\"\"\", chunkIdParam=ref_chunk_id).records\n"
   ]
  },
  {
   "cell_type": "markdown",
   "metadata": {},
   "source": [
    "### Script - find a form from a chunk"
   ]
  },
  {
   "cell_type": "markdown",
   "metadata": {},
   "source": [
    "You can work backwards from the chunk to find\n",
    "the Form that is a part of.\n",
    "\n",
    "Then return the source link for the Form."
   ]
  },
  {
   "cell_type": "code",
   "execution_count": null,
   "metadata": {
    "tags": []
   },
   "outputs": [],
   "source": [
    "# Retrieve a form, working backwards from a specific Chunk...\n",
    "\n",
    "# MATCH a 2 node pattern, anchored by a specified `Chunk` \n",
    "# that is `PART_OF` a `Form`.\n",
    "# RETURN the `companyName` property of the `Company` \n",
    "cypher = \"\"\"\n",
    "    MATCH (:Chunk {chunkId: $chunkIdParam})-[:PART_OF]->(f:Form)\n",
    "    RETURN f.source\n",
    "    \"\"\"\n",
    "\n",
    "gdb.execute_query(cypher, chunkIdParam=ref_chunk_id).records"
   ]
  },
  {
   "cell_type": "markdown",
   "metadata": {},
   "source": [
    "### Script - find a company from a chunk\n",
    "\n",
    "You can extend the pattern to find the company that filed the form.\n",
    "\n",
    "Start with the same pattern, from Chunk to Form,\n",
    "then use a reverse relationship from the Form to \n",
    "the company that filed that form."
   ]
  },
  {
   "cell_type": "code",
   "execution_count": null,
   "metadata": {},
   "outputs": [],
   "source": [
    "# Retrieve a company, working backwards from a specific Chunk...\n",
    "\n",
    "# MATCH a 3 node pattern, anchored by a specified `Chunk` \n",
    "# that is `PART_OF` a `Form` which was `FILED` by a `Company`.\n",
    "# RETURN the `companyName` property of the `Company` \n",
    "cypher = \"\"\"\n",
    "MATCH (:Chunk {chunkId: $chunkIdParam})-[:PART_OF]->(f:Form),\n",
    "    (com:Company)-[:FILED]->(f)\n",
    "RETURN com.name as name\n",
    "\"\"\"\n",
    "\n",
    "gdb.execute_query(cypher, chunkIdParam=ref_chunk_id).records"
   ]
  },
  {
   "cell_type": "markdown",
   "metadata": {},
   "source": [
    "### Script - investors in a company, starting from a chunk\n",
    "\n",
    "Keep extending the pattern all the way to the investment managers.\n",
    "\n",
    "This pattern goes from Chunk to Form,\n",
    "to Company that filed that Form,\n",
    "and then to Managers that own stock in the Company.\n",
    "\n",
    "Since this pattern is long, we can split it up into \n",
    "two patterns. The first makes it the Form, stored in\n",
    "the variable `f`. \n",
    "\n",
    "Then, that same `f` is used in the second pattern,\n",
    "uniting both patterns. The variable `f` must be the \n",
    "same in both patterns for a match to be made.\n",
    "\n",
    "Return the company and a count of the management firms\n",
    "that invested in the company.\n",
    "\n",
    "...\n",
    "\n",
    "In this single Company dataset, \n",
    "all the managers have invested in \"Netapp\".\n"
   ]
  },
  {
   "cell_type": "code",
   "execution_count": null,
   "metadata": {
    "tags": []
   },
   "outputs": [],
   "source": [
    "# Retrieve investors of a company, working backwards from a specific Chunk...\n",
    "\n",
    "# MATCH a 4 node pattern, anchored by a specified `Chunk` \n",
    "# that is `PART_OF` a `Form` which was `FILED` by a `Company`\n",
    "# which a `Manager` `OWNS_STOCK_IN`.\n",
    "# RETURN the company name along with a count of the management firm names\n",
    "cypher = \"\"\"\n",
    "MATCH (:Chunk {chunkId: $chunkIdParam})-[:PART_OF]->(f:Form),\n",
    "        (com:Company)-[:FILED]->(f),\n",
    "        (mgr:Manager)-[:OWNS_STOCK_IN]->(com)\n",
    "RETURN com.name, \n",
    "        count(mgr.name) as numberOfinvestors \n",
    "LIMIT 1\n",
    "\"\"\"\n",
    "\n",
    "gdb.execute_query(cypher, chunkIdParam=ref_chunk_id).records"
   ]
  },
  {
   "cell_type": "markdown",
   "metadata": {},
   "source": [
    "### script - graph powah!\n",
    "\n",
    "You're starting to see what is possible with a knowledge graph,\n",
    "getting information that wouldn't be possible with a vector search.\n"
   ]
  },
  {
   "cell_type": "markdown",
   "metadata": {},
   "source": [
    "### Script - investment as a sentence\n",
    "\n",
    "That pattern you just created, from a chunk\n",
    "all the way to an investor, is useful information.\n",
    "\n",
    "You can use that information for expanding the\n",
    "context provided to an LLM. You can turn the\n",
    "data into a string that looks like sentences\n",
    "that an LLM will happily understand.\n",
    "\n",
    "For example, you can find investors for a company,\n",
    "then create sentences that contain details\n",
    "about each investment\n",
    "to further extend the information provided to\n",
    "an LLM.\n",
    "\n",
    "Use the same MATCH pattern as before\n",
    "\n",
    "then return a string by adding together some\n",
    "of the fields along with some string literals.\n",
    "\n",
    "This uses two functions to nicely format the value\n",
    "of the investment.\n",
    "\n",
    "First, `toInteger()` is used to convert to an integer value.\n",
    "\n",
    "Then the `apoc.number.format()` function adds commas to \n",
    "improve readability."
   ]
  },
  {
   "cell_type": "code",
   "execution_count": null,
   "metadata": {
    "tags": []
   },
   "outputs": [],
   "source": [
    "# Retrieve investors of a company, working backwards from a specific Chunk...\n",
    "\n",
    "# MATCH a 4 node pattern, anchored by a specified `Chunk` \n",
    "# that is `PART_OF` a `Form` which was `FILED` by a `Company`\n",
    "# which a `Manager` `OWNS_STOCK_IN`.\n",
    "# RETURN a sentence about the manager's investment in the company \n",
    "cypher = \"\"\"\n",
    "    MATCH (:Chunk {chunkId: $chunkIdParam})-[:PART_OF]->(f:Form),\n",
    "        (com:Company)-[:FILED]->(f),\n",
    "        (mgr:Manager)-[owns:OWNS_STOCK_IN]->(com)\n",
    "    RETURN mgr.name + \" owns \" + owns.shares + \n",
    "        \" shares of \" + com.name + \n",
    "        \" at a value of $\" + \n",
    "        apoc.number.format(toInteger(owns.value)) AS text\n",
    "    LIMIT 10\n",
    "    \"\"\"\n",
    "\n",
    "gdb.execute_query(cypher, chunkIdParam=ref_chunk_id).records"
   ]
  },
  {
   "cell_type": "markdown",
   "metadata": {},
   "source": [
    "## Example RAG questions\n",
    "\n",
    "### Script - ready for RAG\n",
    "\n",
    "OK, you see the kind of things you can do with pattern matching.\n",
    "\n",
    "Next, you can put that to use in a RAG workflow."
   ]
  },
  {
   "cell_type": "markdown",
   "metadata": {},
   "source": [
    "## Prepare langchain for querying the Knowledge Graph\n",
    "\n"
   ]
  },
  {
   "cell_type": "markdown",
   "metadata": {},
   "source": [
    "### Script - vector based chain\n",
    "\n",
    "Now create a question and answer chain that\n",
    "uses the default similarity search without\n",
    "any extra information.\n",
    "\n",
    "Call this the `plain_chain`."
   ]
  },
  {
   "cell_type": "code",
   "execution_count": null,
   "metadata": {
    "tags": []
   },
   "outputs": [],
   "source": [
    "\n",
    "\n",
    "# Create a langchain vector store from the existing Neo4j knowledge graph.\n",
    "vector_store = Neo4jVector.from_existing_graph(\n",
    "    embedding=embeddings_api,\n",
    "    url=NEO4J_URI,\n",
    "    username=NEO4J_USERNAME,\n",
    "    password=NEO4J_PASSWORD,\n",
    "    index_name=VECTOR_INDEX_NAME,\n",
    "    node_label=VECTOR_NODE_LABEL,\n",
    "    text_node_properties=[VECTOR_SOURCE_PROPERTY],\n",
    "    embedding_node_property=VECTOR_EMBEDDING_PROPERTY,\n",
    ")\n",
    "# Create a retriever from the vector store\n",
    "retriever = vector_store.as_retriever()\n",
    "\n",
    "# Create a chatbot Question & Answer chain from the retriever\n",
    "plain_chain = prettifyChain(RetrievalQAWithSourcesChain.from_chain_type(\n",
    "    chat_api, \n",
    "    chain_type=\"stuff\", \n",
    "    retriever=retriever\n",
    "))"
   ]
  },
  {
   "cell_type": "markdown",
   "metadata": {},
   "source": [
    "# Script - retrieval query\n",
    "\n"
   ]
  },
  {
   "cell_type": "markdown",
   "metadata": {},
   "source": [
    "### Script - chain with extra information\n",
    "\n",
    "Now create another chain that extends the retrieval\n",
    "query to add investment information.\n",
    "\n",
    "The retrieval query does a bit extra work, collecting\n",
    "the top-10 investment statements into a list,\n",
    "then joinging that list into a single string\n",
    "that then gets preprepended to the text from the\n",
    "vector similarity search.\n",
    "\n",
    "Recall that the `node` is the Chunk found by vector search,\n",
    "and the `score` variable is the similarity score of that Chunk."
   ]
  },
  {
   "cell_type": "code",
   "execution_count": null,
   "metadata": {
    "tags": []
   },
   "outputs": [],
   "source": [
    "investment_retrieval_query = \"\"\"\n",
    "MATCH (node)-[:PART_OF]->(f:Form),\n",
    "    (f)<-[:FILED]-(com:Company),\n",
    "    (com)<-[owns:OWNS_STOCK_IN]-(mgr:Manager)\n",
    "WITH node, score, mgr, owns, com \n",
    "    ORDER BY owns.shares DESC LIMIT 10\n",
    "WITH collect (\n",
    "    mgr.name + \n",
    "    \" owns \" + owns.shares + \" of \" + com.name + \n",
    "    \" at a value of $\" + apoc.number.format(owns.value) + \".\" \n",
    ") AS investment_statements, node, score\n",
    "RETURN apoc.text.join(investment_statements, \"\\n\") + \n",
    "    \"\\n\" + node.text AS text,\n",
    "    score,\n",
    "    { \n",
    "      source: node.source\n",
    "    } as metadata\n",
    "\"\"\"\n",
    "\n",
    "vector_store_with_investment = Neo4jVector.from_existing_index(\n",
    "    embedding=embeddings_api,\n",
    "    url=NEO4J_URI,\n",
    "    username=NEO4J_USERNAME,\n",
    "    password=NEO4J_PASSWORD,\n",
    "    database=\"neo4j\",\n",
    "    index_name=VECTOR_INDEX_NAME,\n",
    "    text_node_property=VECTOR_SOURCE_PROPERTY,\n",
    "    retrieval_query=investment_retrieval_query,\n",
    ")\n",
    "\n",
    "# Create a retriever from the vector store\n",
    "retriever_with_investments = vector_store_with_investment.as_retriever()\n",
    "\n",
    "# Create a chatbot Question & Answer chain from the retriever\n",
    "investment_chain = prettifyChain(RetrievalQAWithSourcesChain.from_chain_type(\n",
    "    ChatOpenAI(temperature=0), \n",
    "    chain_type=\"stuff\", \n",
    "    retriever=retriever_with_investments\n",
    "))"
   ]
  },
  {
   "cell_type": "markdown",
   "metadata": {},
   "source": [
    "## Example user questions"
   ]
  },
  {
   "cell_type": "code",
   "execution_count": null,
   "metadata": {
    "tags": []
   },
   "outputs": [],
   "source": [
    "question = 'In a single sentence, tell me about Netapp.'"
   ]
  },
  {
   "cell_type": "code",
   "execution_count": null,
   "metadata": {
    "tags": []
   },
   "outputs": [],
   "source": [
    "question = 'In a single sentence, tell me about Netapp investors.'"
   ]
  },
  {
   "cell_type": "code",
   "execution_count": null,
   "metadata": {
    "tags": []
   },
   "outputs": [],
   "source": [
    "plain_chain(question)"
   ]
  },
  {
   "cell_type": "code",
   "execution_count": null,
   "metadata": {
    "tags": []
   },
   "outputs": [],
   "source": [
    "investment_chain(question)"
   ]
  },
  {
   "cell_type": "code",
   "execution_count": null,
   "metadata": {},
   "outputs": [],
   "source": []
  }
 ],
 "metadata": {
  "environment": {
   "kernel": "conda-base-py",
   "name": "workbench-notebooks.m125",
   "type": "gcloud",
   "uri": "us-docker.pkg.dev/deeplearning-platform-release/gcr.io/workbench-notebooks:m125"
  },
  "kernelspec": {
   "display_name": "Python 3 (ipykernel) (Local)",
   "language": "python",
   "name": "conda-base-py"
  },
  "language_info": {
   "codemirror_mode": {
    "name": "ipython",
    "version": 3
   },
   "file_extension": ".py",
   "mimetype": "text/x-python",
   "name": "python",
   "nbconvert_exporter": "python",
   "pygments_lexer": "ipython3",
   "version": "3.10.15"
  }
 },
 "nbformat": 4,
 "nbformat_minor": 4
}
